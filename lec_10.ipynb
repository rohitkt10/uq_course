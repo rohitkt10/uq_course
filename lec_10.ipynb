{
 "cells": [
  {
   "cell_type": "markdown",
   "metadata": {},
   "source": [
    "# Lecture 10 - Gaussian Process Regression"
   ]
  },
  {
   "cell_type": "markdown",
   "metadata": {},
   "source": [
    "$\n",
    "% DEFINITIONS\n",
    "\\newcommand{\\bff}{\\mathbf{f}}\n",
    "\\newcommand{\\bm}{\\mathbf{m}}\n",
    "\\newcommand{\\bk}{\\mathbf{k}}\n",
    "\\newcommand{\\bx}{\\mathbf{x}}\n",
    "\\newcommand{\\by}{\\mathbf{y}}\n",
    "\\newcommand{\\bz}{\\mathbf{z}}\n",
    "\\newcommand{\\bA}{\\mathbf{A}}\n",
    "\\newcommand{\\bB}{\\mathbf{B}}\n",
    "\\newcommand{\\bC}{\\mathbf{C}}\n",
    "\\newcommand{\\bD}{\\mathbf{D}}\n",
    "\\newcommand{\\bI}{\\mathbf{I}}\n",
    "\\newcommand{\\bK}{\\mathbf{K}}\n",
    "\\newcommand{\\bL}{\\mathbf{L}}\n",
    "\\newcommand{\\bM}{\\mathbf{M}}\n",
    "\\newcommand{\\bX}{\\mathbf{X}}\n",
    "\\newcommand{\\bY}{\\mathbf{Y}}\n",
    "\\newcommand{\\bTheta}{\\mathbf{\\Theta}}\n",
    "\\newcommand{\\calX}{\\mathcal{X}}\n",
    "\\newcommand{\\bLambda}{\\boldsymbol{\\Lambda}}\n",
    "\\newcommand{\\bSigma}{\\boldsymbol{\\Sigma}}\n",
    "\\newcommand{\\bmu}{\\boldsymbol{\\mu}}\n",
    "\\newcommand{\\calN}{\\mathcal{N}}\n",
    "\\newcommand{\\calD}{\\mathcal{D}}\n",
    "\\newcommand{\\R}{\\mathbb{R}}\n",
    "\\newcommand{\\E}{\\mathbb{E}}\n",
    "\\newcommand{\\C}{\\mathbb{C}}\n",
    "\\newcommand{\\Rd}{\\R^d}\n",
    "\\newcommand{\\Rdd}{\\R^{d\\times d}}\n",
    "\\newcommand{\\bzero}{\\mathbf{0}}\n",
    "\\newcommand{\\GP}{\\mbox{GP}}\n",
    "% END OF DEFINITIONS\n",
    "$ \n",
    "\n",
    "\n",
    "\n",
    "\n",
    "\n",
    "## Objectives\n",
    "\n",
    "+ Quick recap of Gaussian processes (GP). \n",
    "+ Condition a GP on observed measurements \n",
    "+ Training a GP by maximization of the likelihood\n",
    "\n",
    "## Reading\n",
    "\n",
    "+ Please read [this](http://www.kyb.mpg.de/fileadmin/user_upload/files/publications/pdfs/pdf2903.pdf) OR watch [this video lecture](http://videolectures.net/mlss03_rasmussen_gp/?q=MLSS).\n",
    "\n",
    "+ [Section 5.4 in GP for ML textbook](http://www.gaussianprocess.org/gpml/chapters/RW5.pdf).\n",
    "\n",
    "\n",
    "\n",
    "Recall, that in the previous lecture we discussed the following :\n",
    "\n",
    "+ What is prior knowledge?\n",
    "\n",
    "+ What is a Gaussian process (GP) ?\n",
    "\n",
    "+ What are the properties of the mean and covariance functions of a Gaussian process and what kind of priors can we encode into a GP through the mean and the covariance kernel? \n",
    "\n",
    "+ How do we sample from a GP ?\n",
    "\n",
    "Also, in Lecture 8, we had defined the regression problem and demonstrated the Bayesian interpretation of the Linear regression problem. We again define the regression model as follows: \n",
    "$$\n",
    "y = f(\\mathbf{x}) + \\epsilon  \n",
    "$$\n",
    "with $\\epsilon \\sim \\mathcal{N}(0, \\sigma_{n}^{2})$ being a term to account for potentially noisy simulations. \n",
    "\n",
    "In this lecture, we shall talk about how we develop response functions to approximate a generic black box computer code (say $f(\\cdot)$) in a manner that makes it compatible with our prior beliefs about the model. We do so, by using Bayes' rule and the Gaussian process regression method. Remember that our goal is to be able to propagate uncertainty in the inputs. \n",
    "\n",
    "We saw in the previous lecture that one's prior knowledge about the response can be modeled in terms of a generic GP. Let that prior state of knowledge be represented as follows: \n",
    "\\begin{equation}\n",
    "f(\\cdot) | m(\\cdot), k(\\cdot, \\cdot) \\sim \\GP\\left(f(\\cdot) | m(\\cdot), k(\\cdot, \\cdot) \\right),\n",
    "\\end{equation}\n",
    "\n",
    "where the terms have their usual meaning i.e., $f(\\cdot)$ is a generic response surface, $m(\\cdot)$ is the prior mean function and $k(\\cdot, \\cdot)$ is the covariance kernel parameterized by a set of hyperparameters $\\mathbf{\\theta}$. Specifically, in the case of the squared exponential covariance kernel, $\\mathbf{\\theta} = \\{s, l_1, l_2, \\cdots, l_k\\}$. Essentially, our prior beliefs about the model are encoded by assigning a prior probability distribution to these hyperparameters i.e., \n",
    "$\n",
    "\\mathbf{\\theta} \\sim p(\\mathbf{\\theta})\n",
    "$\n",
    "\n",
    "The mean function can have any functional form as discussed in the previous lecture. If one does not have any knowledge about generic trends in the response it is reasonable to assign a zero prior on the mean function. \n",
    "\n",
    "Now, assume that we make $n$ _measurements_ or _simulations_ at input locations $\\bx_1, \\bx_2, \\cdots, \\bx_n$ such that $\\bx_i \\in \\R^{d}$. The corresponding observed outputs are $y_1, y_2, \\cdots, y_n$, such that $y_i \\in \\R$. We write $\\bX = \\{\\bx_1, \\bx_2, \\cdots, \\bx_n\\}$ and $\\bY=\\{y_1, y_2, \\cdots, y_n\\}$. Abusing mathematical notation slightly, we use the symbol $\\calD$ to denote $\\bX$ and $\\bY$ collectively. We refer to $\\calD$ as the _observed data_. How does the observed data $\\calD$ affect our state of knowledge about the response surface? \n",
    "\n",
    "\n",
    "Using Bayes' rule, our new state of knowledge about the response function, conditioned upon the observed data, is another GP which can be expressed as follows: \n",
    "\n",
    "$$\n",
    "f(\\cdot)|\\calD \\sim GP(f(\\cdot)| m^{*} (\\cdot;\\calD) k^{*}(\\cdot, \\cdot; \\calD))\n",
    "$$\n",
    "\n",
    "with mean function: \n",
    "$$\n",
    "m^{*}(\\bx; \\mathbf{\\theta}) = m(\\bx; \\mathbf{\\theta}) + \\bk(\\bx, \\bX; \\mathbf{\\theta}) \\bK(\\bX, \\bX; \\mathbf{\\theta})^{-1}(\\bY-m(\\bX; \\mathbf{\\theta}))\n",
    "$$\n",
    "\n",
    "and covariance function:\n",
    "$$\n",
    "k^{*}(\\bx, \\bx'; \\mathbf{\\theta}) = k(\\bx, \\bx'; \\mathbf{\\theta}) - \\bk(\\bx, \\bX; \\mathbf{\\theta})\\bK(\\bX, \\bX; \\mathbf{\\theta})^{-1}\\bk(\\bX, \\bx'; \\mathbf{\\theta})\n",
    "$$\n",
    "\n",
    "\n",
    "and posterior distribution of the hyperparameters given by : \n",
    "$$\n",
    "p(\\mathbf{\\theta}|\\calD) = \\frac{p(\\calD|\\mathbf{\\theta})p(\\mathbf{\\theta})}{p(\\calD)}\n",
    "$$\n",
    "\n",
    "\n",
    "where, \n",
    "$\n",
    "p(\\calD|\\mathbf{\\theta}) = p(\\bY|\\bX, \\mathbf{\\theta}) = \\calN(\\bY|m(\\bX; \\mathbf{\\theta}), k(\\bX, \\bX; \\mathbf{\\theta}))\n",
    "$\n",
    "is called the _likelihood_ of the observed data $\\calD$ and \n",
    "$\n",
    "p(\\calD) = \\int p(\\calD|\\mathbf{\\theta}) p(\\mathbf{\\theta}) d\\mathbf{\\theta}\n",
    "$\n",
    "is called the _evidence_.\n",
    "\n",
    "\n",
    "\n",
    "\n",
    "### Training parameters of the Gaussian process - Maximum Likelihood Estimation (MLE)\n",
    "\n",
    "In order to make the hyper-parameters of the GP model consistent with the observed data $\\mathcal{D}$, we need to \"train\" the model on the observed data. The most commonly adopted approach to training the GP model is by maximizing the likelihood of the data given the choice of hyperparameters, i.e., \n",
    "$$\n",
    "\\mathbf{\\Theta}^{*} = \\arg\\max p(\\mathbf{\\Theta}|\\mathcal{D})\n",
    "$$\n",
    "\n",
    "In practice, the objective function for the above optimization problem is the logarithm (or negative logarithm) of the likelihood. This is done for both analytical tractability (the expression for the log likelihood is free of exponentials) and computational convenience (taking the logarithm helps prevent underflow or overflow). Thus, we formally redefine the optimization problem as follows: \n",
    "\n",
    "$$\n",
    "\\mathbf{\\theta}^*, \\sigma_{n}^{*} = \\arg\\min \\mathcal{L}(\\mathbf{\\theta}, \\mathbf{\\sigma_n};\\mathcal{D})\n",
    "$$\n",
    "\n",
    "where $\\mathcal{L}$ is the called the log likelihood, $\\mathbf{\\theta}$ are the hyperparameters of the covariance kernel and $\\sigma_n$ is the standard deviation of the Gaussian noise term assumed in the regression model. \n",
    "\n",
    "For a Gaussian process regression model with Gaussian likelihood, the quantity $\\mathcal{L}$ i.e. the log lieklihood term is defined as follows: \n",
    "$$\n",
    "\\mathcal{L}(\\mathbf{\\theta}, \\sigma_n | \\mathcal{D}) = -\\frac{1}{2}\\mathbf{y}^T (\\mathbf{K} + \\sigma_{n}^{2}\\mathbf{I})^{-1} \\mathbf{y} -\\frac{1}{2}\\log |\\mathbf{K} + \\sigma_{n}^{2} \\mathbf{I}| -\\frac{n}{2} \\log2\\pi\n",
    "$$\n",
    "where $n$ is the number of dimensions in the input space. \n",
    "\n",
    "An analytical expression of this derivative is available and the reader is encouraged to consult [Section 5.4.1 of Rasmussen's textbook](http://www.gaussianprocess.org/gpml/chapters/RW5.pdf) for complete details.\n",
    "\n",
    "This optimization problem can now be solved by a standard optimization algorithm such as [BFGS](https://en.wikipedia.org/wiki/Broyden%E2%80%93Fletcher%E2%80%93Goldfarb%E2%80%93Shanno_algorithm). This is typically a non-convex optimization problem (i.e. the objective function may have several local optima). This is not as problematic as one might expect. Different local optima correspond to different interpretations of the model. One may choose to take a weighted average of the predictions from different optima or one may restart the optimization process several times by varying the initial starting point in the hopes of eventually finding the global optima. "
   ]
  },
  {
   "cell_type": "code",
   "execution_count": 1,
   "metadata": {
    "collapsed": true
   },
   "outputs": [],
   "source": [
    "import GPy\n",
    "from IPython.display import display\n",
    "import seaborn as sns\n",
    "sns.set_context('paper')\n",
    "import matplotlib.pyplot as plt\n",
    "import matplotlib.colors as colors\n",
    "%matplotlib inline\n",
    "import numpy as np\n",
    "np.random.seed(2645654)"
   ]
  },
  {
   "cell_type": "markdown",
   "metadata": {},
   "source": [
    "### GP Regression in practice. \n",
    "\n",
    "In practice, we do not need to implement Gaussian process regression ourselves. We resort to using the excellent python module [GPy](https://sheffieldml.github.io/GPy/) to demonstrate GP Regression in action. \n",
    "\n",
    "Let us begin by demonstrating a simple case of 1-D regression. \n",
    "\n",
    "Assume that there is a scientific simulator $f$ which accepts a input parameter $x$ such that $x \\in \\mathbb{R}$ and returns a scalar output $y = f(x)$.\n",
    "\n",
    "We are uncertain about the input $x$ but believe that $0 \\leq x \\leq 1$. We thus assign a flat prior distribution to $x$ i.e. $x \\sim \\mathcal{U}(0, 1)$. We are interested in propagating uncertainty through this model i.e. characterizing the mean behavior of the output $y$, $\\mathbb{E}_y$ as well as it's variability $\\mathbb{V}_y$. We could simply compute Monte-Carlo approximations of these quantities by sampling the input at a very large number of input locations. Instead, here we attempt to first build a surrogate model for the response using GP Regression using a finite number of simulations (say 10) of the input and then use Monte-Carlo to propagate uncertainty through the surrogate. \n",
    "\n",
    "Let us first define this simulator. "
   ]
  },
  {
   "cell_type": "code",
   "execution_count": 2,
   "metadata": {
    "collapsed": false
   },
   "outputs": [],
   "source": [
    "#The scientific simulator.\n",
    "f = lambda x: -np.cos(np.pi * x) + np.sin(4. * np.pi * x)  "
   ]
  },
  {
   "cell_type": "markdown",
   "metadata": {},
   "source": [
    "Now we uniformly sample 10 inputs from the input space and compute the corresponding output: "
   ]
  },
  {
   "cell_type": "code",
   "execution_count": 3,
   "metadata": {
    "collapsed": false
   },
   "outputs": [],
   "source": [
    "X = np.linspace(0, 1, 10).reshape(10, 1)\n",
    "Y = f(X)"
   ]
  },
  {
   "cell_type": "markdown",
   "metadata": {},
   "source": [
    "Now we use GPy to build our GP regression model. First, let us define the squared exponential covariance kernel:"
   ]
  },
  {
   "cell_type": "code",
   "execution_count": 4,
   "metadata": {
    "collapsed": true
   },
   "outputs": [],
   "source": [
    "k = GPy.kern.RBF(input_dim = 1, variance = 1., lengthscale = 1.)"
   ]
  },
  {
   "cell_type": "markdown",
   "metadata": {},
   "source": [
    "The line code above define _k_ as a squared exponential kernel corresponding to a GP whose input space is 1 dimensional. The terms arguments _variance_ and _lengthscale_ correspond to the hyperparameters of this kernel. \n",
    "\n",
    "Now we define the model and print it's details:"
   ]
  },
  {
   "cell_type": "code",
   "execution_count": 5,
   "metadata": {
    "collapsed": false
   },
   "outputs": [
    {
     "name": "stdout",
     "output_type": "stream",
     "text": [
      "\n",
      "Name                              : GP regression\n",
      "Log-likelihood                    : -13.6811171321\n",
      "Number of Parameters              : 3\n",
      "Number of Optimization Parameters : 3\n",
      "Updates                           : True\n",
      "Parameters:\n",
      "  GP_regression.           |  Value  |  Constraint  |  Prior  |  Tied to\n",
      "  \u001b[1mrbf.variance           \u001b[0;0m  |    1.0  |     +ve      |         |         \n",
      "  \u001b[1mrbf.lengthscale        \u001b[0;0m  |    1.0  |     +ve      |         |         \n",
      "  \u001b[1mGaussian_noise.variance\u001b[0;0m  |    1.0  |     +ve      |         |         \n"
     ]
    }
   ],
   "source": [
    "model = GPy.models.GPRegression(X, Y, k)\n",
    "print model"
   ]
  },
  {
   "cell_type": "markdown",
   "metadata": {},
   "source": [
    "Now let's try and make some predictions: "
   ]
  },
  {
   "cell_type": "code",
   "execution_count": 6,
   "metadata": {
    "collapsed": false
   },
   "outputs": [],
   "source": [
    "x_test = np.random.uniform(low = 0, high = 1, size = (20, 1))\n",
    "y_predict, V_predict = model.predict(x_test)\n",
    "#y_predict, V_predict = model.predict(x_test, full_cov = True)"
   ]
  },
  {
   "cell_type": "markdown",
   "metadata": {},
   "source": [
    "Note that the second line produces the variance at each of the test input points. In order to obtain the full covariance matrix for all the test input points, you may simply un-comment the 3rd line where the argument _full_cov_ is passed as True."
   ]
  },
  {
   "cell_type": "markdown",
   "metadata": {},
   "source": [
    "Let us plot the prediction: "
   ]
  },
  {
   "cell_type": "code",
   "execution_count": 7,
   "metadata": {
    "collapsed": false
   },
   "outputs": [
    {
     "data": {
      "image/png": "[encoded data removed]",
      "text/plain": [
       "<matplotlib.figure.Figure at 0x10d1ecf90>"
      ]
     },
     "metadata": {},
     "output_type": "display_data"
    }
   ],
   "source": [
    "#get the 5% and 95% quantile:\n",
    "y_p_lower = y_predict - 1.96 * np.sqrt(V_predict)\n",
    "y_p_upper = y_predict + 1.96 * np.sqrt(V_predict)\n",
    "\n",
    "#plot\n",
    "model.plot()\n",
    "#plt.plot(X, Y, 'kx', markersize=8, markeredgewidth=2, label='Observations')\n",
    "plt.plot(x_test, y_predict, linestyle = '-.', label='Mean prediction')\n",
    "#ax.plot(x_test, y_p_lower, linestyle='-.', color='red', label='5% and 95% quantiles', linewidth=1)\n",
    "#ax.plot(x_test, y_p_upper, linestyle='-.', color='red', linewidth=1)\n",
    "#plt.fill_between(x_test.flatten(), y_p_lower.flatten(), y_p_upper.flatten(), alpha=0.25)\n",
    "plt.legend(loc = 'best')\n",
    "plt.show()"
   ]
  },
  {
   "cell_type": "markdown",
   "metadata": {},
   "source": [
    "This does not look like a very good fit. Perhaps our prior assumptions about the model hyperparameters are incorrect. Let us rectify that by setting the Gaussian noise variance to 0."
   ]
  },
  {
   "cell_type": "code",
   "execution_count": 8,
   "metadata": {
    "collapsed": true
   },
   "outputs": [],
   "source": [
    "model.likelihood.variance = 0"
   ]
  },
  {
   "cell_type": "markdown",
   "metadata": {},
   "source": [
    "Let us make predictions on this model again."
   ]
  },
  {
   "cell_type": "code",
   "execution_count": 9,
   "metadata": {
    "collapsed": true
   },
   "outputs": [],
   "source": [
    "x_test = np.random.uniform(low = 0, high = 1, size = (20, 1))\n",
    "y_predict, V_predict = model.predict(x_test)"
   ]
  },
  {
   "cell_type": "markdown",
   "metadata": {},
   "source": [
    "Now let us visualize the predictions once more."
   ]
  },
  {
   "cell_type": "code",
   "execution_count": 10,
   "metadata": {
    "collapsed": false
   },
   "outputs": [
    {
     "data": {
      "image/png": "[encoded data removed]",
      "text/plain": [
       "<matplotlib.figure.Figure at 0x10d1ec510>"
      ]
     },
     "metadata": {},
     "output_type": "display_data"
    }
   ],
   "source": [
    "model.plot()\n",
    "plt.plot(x_test, y_predict,'^', markersize = 10, color = 'green', label='Mean prediction')\n",
    "plt.legend(loc = 'best')\n",
    "plt.show()"
   ]
  },
  {
   "cell_type": "markdown",
   "metadata": {},
   "source": [
    "This looks like a much better fit. Perhaps we can optimize it further. Maybe we can modify \n",
    "the lengthscale and the signal strength to get better estimates."
   ]
  },
  {
   "cell_type": "code",
   "execution_count": 11,
   "metadata": {
    "collapsed": false
   },
   "outputs": [
    {
     "data": {
      "image/png": "[encoded data removed]",
      "text/plain": [
       "<matplotlib.figure.Figure at 0x10d386750>"
      ]
     },
     "metadata": {},
     "output_type": "display_data"
    }
   ],
   "source": [
    "#change hyperparameter values\n",
    "model.kern.lengthscale = 0.8\n",
    "model.kern.variance = 0.2\n",
    "\n",
    "#Resample test inputs and make new predictions.\n",
    "x_test = np.random.uniform(low = 0, high = 1, size = (20, 1))\n",
    "y_predict, V_predict = model.predict(x_test)\n",
    "\n",
    "#plot again.\n",
    "model.plot()\n",
    "plt.plot(x_test, y_predict,'^', markersize = 10, color = 'green', label='Mean prediction')\n",
    "plt.legend(loc = 'best')\n",
    "plt.show()"
   ]
  },
  {
   "cell_type": "markdown",
   "metadata": {},
   "source": [
    "We can fiddle around with these parameters all day but this is obviously not the right way to estimate the hyperparameters. As discussed earlier the correct way to do this is to use a suitable optimization algorithm to minimize the log likelihood of the GP model. In GPy, this is achieved with the _optimize_ or the _optimize_restarts_ method."
   ]
  },
  {
   "cell_type": "code",
   "execution_count": 12,
   "metadata": {
    "collapsed": false
   },
   "outputs": [
    {
     "name": "stdout",
     "output_type": "stream",
     "text": [
      "\n",
      "Name                              : GP regression\n",
      "Log-likelihood                    : -7.43957900447\n",
      "Number of Parameters              : 3\n",
      "Number of Optimization Parameters : 3\n",
      "Updates                           : True\n",
      "Parameters:\n",
      "  GP_regression.           |        Value        |  Constraint  |  Prior  |  Tied to\n",
      "  \u001b[1mrbf.variance           \u001b[0;0m  |       4.6664811449  |     +ve      |         |         \n",
      "  \u001b[1mrbf.lengthscale        \u001b[0;0m  |     0.210412427406  |     +ve      |         |         \n",
      "  \u001b[1mGaussian_noise.variance\u001b[0;0m  |  4.56569153203e-12  |     +ve      |         |         \n"
     ]
    }
   ],
   "source": [
    "#Re-initialize the model\n",
    "model = GPy.models.GPRegression(X, Y, k)\n",
    "\n",
    "#optimize the model\n",
    "model.optimize_restarts(num_restarts = 10)\n",
    "print model"
   ]
  },
  {
   "cell_type": "markdown",
   "metadata": {},
   "source": [
    "The default optimization routine in GPy is the BFGS algorithm although there are a range of choices including _stochastic gradient_, _conjugate gradient_, _gradient descent_ etc.\n",
    "\n",
    "Now that we have optimized the GP model, let us make predictions and plot the outcome again."
   ]
  },
  {
   "cell_type": "code",
   "execution_count": 13,
   "metadata": {
    "collapsed": false
   },
   "outputs": [
    {
     "data": {
      "image/png": "[encoded data removed]",
      "text/plain": [
       "<matplotlib.figure.Figure at 0x10d6e8350>"
      ]
     },
     "metadata": {},
     "output_type": "display_data"
    }
   ],
   "source": [
    "#Resample test inputs and make new predictions.\n",
    "x_test = np.random.uniform(low = 0, high = 1, size = (20, 1))\n",
    "y_predict, V_predict = model.predict(x_test)\n",
    "\n",
    "#plot again.\n",
    "model.plot()\n",
    "plt.plot(x_test, y_predict,'^', markersize = 10, color = 'green', label='Mean prediction')\n",
    "plt.legend(loc = 'best')\n",
    "plt.show()"
   ]
  },
  {
   "cell_type": "markdown",
   "metadata": {},
   "source": [
    "The surrogate model we just developed is cheap to evaluate and we can easily sample hundreds of thousands of evaluations of the response in a matter of seconds. Let us try to visualize the output probaility density function in the problem we just demonstrated. We already specified that the inputs are uncertain and have a uniform distribution:\n",
    "$$\n",
    "x \\sim \\mathcal{U}(0, 1)\n",
    "$$"
   ]
  },
  {
   "cell_type": "code",
   "execution_count": 14,
   "metadata": {
    "collapsed": false
   },
   "outputs": [
    {
     "data": {
      "image/png": "[encoded data removed]",
      "text/plain": [
       "<matplotlib.figure.Figure at 0x10d2d42d0>"
      ]
     },
     "metadata": {},
     "output_type": "display_data"
    }
   ],
   "source": [
    "#sample a million observations of the input\n",
    "x_test = np.random.uniform(low = 0., high = 1., size = (1000000, 1))\n",
    "\n",
    "#visualize the input pdf:\n",
    "sns.distplot(x_test)\n",
    "plt.show()"
   ]
  },
  {
   "cell_type": "code",
   "execution_count": 15,
   "metadata": {
    "collapsed": false
   },
   "outputs": [
    {
     "data": {
      "text/plain": [
       "<matplotlib.axes._subplots.AxesSubplot at 0x10d7bbdd0>"
      ]
     },
     "execution_count": 15,
     "metadata": {},
     "output_type": "execute_result"
    },
    {
     "data": {
      "image/png": "[encoded data removed]",
      "text/plain": [
       "<matplotlib.figure.Figure at 0x10d763190>"
      ]
     },
     "metadata": {},
     "output_type": "display_data"
    }
   ],
   "source": [
    "#Make prediction\n",
    "y_p, K = model.predict(x_test) \n",
    "\n",
    "#visualize the PDF of the output:\n",
    "sns.distplot(y_p)"
   ]
  }
 ],
 "metadata": {
  "kernelspec": {
   "display_name": "Python 2",
   "language": "python",
   "name": "python2"
  },
  "language_info": {
   "codemirror_mode": {
    "name": "ipython",
    "version": 2
   },
   "file_extension": ".py",
   "mimetype": "text/x-python",
   "name": "python",
   "nbconvert_exporter": "python",
   "pygments_lexer": "ipython2",
   "version": "2.7.10"
  },
  "latex_envs": {
   "bibliofile": "biblio.bib",
   "cite_by": "apalike",
   "current_citInitial": 1,
   "eqLabelWithNumbers": true,
   "eqNumInitial": 0
  }
 },
 "nbformat": 4,
 "nbformat_minor": 0
}
