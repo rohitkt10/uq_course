{
 "cells": [
  {
   "cell_type": "markdown",
   "metadata": {},
   "source": [
    "##Introduction to Gaussian Processes.\n",
    "\n",
    "###1. Priors on function spaces\n",
    "\n",
    "###2. Mean function.\n",
    "\n",
    "###3. Covariance function. \n",
    "\n",
    "###Sampling from a Gaussian Process. \n",
    "\n",
    "**Write about the algorithm to sample from a Gaussian Process here**\n",
    "\n",
    "### Karhunen-Loeve Expansion.\n",
    "\n",
    "###Numerical Approximation to the KL Expansion. \n",
    "\n",
    "**Talk about the Nystrom Approximation**\n",
    "\n",
    "##Elliptic Partial Differential Equation Example. \n",
    "\n"
   ]
  },
  {
   "cell_type": "code",
   "execution_count": null,
   "metadata": {
    "collapsed": true
   },
   "outputs": [],
   "source": []
  }
 ],
 "metadata": {
  "kernelspec": {
   "display_name": "Python 2",
   "language": "python",
   "name": "python2"
  },
  "language_info": {
   "codemirror_mode": {
    "name": "ipython",
    "version": 2
   },
   "file_extension": ".py",
   "mimetype": "text/x-python",
   "name": "python",
   "nbconvert_exporter": "python",
   "pygments_lexer": "ipython2",
   "version": "2.7.10"
  }
 },
 "nbformat": 4,
 "nbformat_minor": 0
}
